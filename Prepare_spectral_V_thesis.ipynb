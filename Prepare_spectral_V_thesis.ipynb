{
  "cells": [
    {
      "cell_type": "markdown",
      "metadata": {
        "id": "view-in-github",
        "colab_type": "text"
      },
      "source": [
        "<a href=\"https://colab.research.google.com/github/priaJuli/project_thesis/blob/master/Prepare_spectral_V_thesis.ipynb\" target=\"_parent\"><img src=\"https://colab.research.google.com/assets/colab-badge.svg\" alt=\"Open In Colab\"/></a>"
      ]
    },
    {
      "cell_type": "markdown",
      "source": [
        "# Import neccesary package"
      ],
      "metadata": {
        "id": "Ljpq26Ew90GB"
      }
    },
    {
      "cell_type": "code",
      "execution_count": 1,
      "metadata": {
        "colab": {
          "base_uri": "https://localhost:8080/"
        },
        "id": "GMUze9JNUDta",
        "outputId": "d7bd3108-66ea-4e19-806c-ee57eb18afd7"
      },
      "outputs": [
        {
          "output_type": "stream",
          "name": "stdout",
          "text": [
            "Requirement already satisfied: pytsmod in /usr/local/lib/python3.10/dist-packages (0.3.7)\n",
            "Requirement already satisfied: numpy<2.0,>=1.20 in /usr/local/lib/python3.10/dist-packages (from pytsmod) (1.23.5)\n",
            "Requirement already satisfied: scipy<2.0,>=1.8 in /usr/local/lib/python3.10/dist-packages (from pytsmod) (1.11.3)\n",
            "Collecting soundfile<0.11,>=0.10 (from pytsmod)\n",
            "  Using cached SoundFile-0.10.3.post1-py2.py3-none-any.whl (21 kB)\n",
            "Requirement already satisfied: cffi>=1.0 in /usr/local/lib/python3.10/dist-packages (from soundfile<0.11,>=0.10->pytsmod) (1.16.0)\n",
            "Requirement already satisfied: pycparser in /usr/local/lib/python3.10/dist-packages (from cffi>=1.0->soundfile<0.11,>=0.10->pytsmod) (2.21)\n",
            "Installing collected packages: soundfile\n",
            "  Attempting uninstall: soundfile\n",
            "    Found existing installation: soundfile 0.12.1\n",
            "    Uninstalling soundfile-0.12.1:\n",
            "      Successfully uninstalled soundfile-0.12.1\n",
            "\u001b[31mERROR: pip's dependency resolver does not currently take into account all the packages that are installed. This behaviour is the source of the following dependency conflicts.\n",
            "librosa 0.10.1 requires soundfile>=0.12.1, but you have soundfile 0.10.3.post1 which is incompatible.\u001b[0m\u001b[31m\n",
            "\u001b[0mSuccessfully installed soundfile-0.10.3.post1\n"
          ]
        }
      ],
      "source": [
        "!pip3 install pytsmod"
      ]
    },
    {
      "cell_type": "code",
      "execution_count": 2,
      "metadata": {
        "colab": {
          "base_uri": "https://localhost:8080/"
        },
        "id": "f00rqA7ufRqV",
        "outputId": "20a4b93e-b486-49be-89ec-7ecb2e193e1b"
      },
      "outputs": [
        {
          "output_type": "stream",
          "name": "stdout",
          "text": [
            "Requirement already satisfied: librosa in /usr/local/lib/python3.10/dist-packages (0.10.1)\n",
            "Requirement already satisfied: audioread>=2.1.9 in /usr/local/lib/python3.10/dist-packages (from librosa) (3.0.1)\n",
            "Requirement already satisfied: numpy!=1.22.0,!=1.22.1,!=1.22.2,>=1.20.3 in /usr/local/lib/python3.10/dist-packages (from librosa) (1.23.5)\n",
            "Requirement already satisfied: scipy>=1.2.0 in /usr/local/lib/python3.10/dist-packages (from librosa) (1.11.3)\n",
            "Requirement already satisfied: scikit-learn>=0.20.0 in /usr/local/lib/python3.10/dist-packages (from librosa) (1.2.2)\n",
            "Requirement already satisfied: joblib>=0.14 in /usr/local/lib/python3.10/dist-packages (from librosa) (1.3.2)\n",
            "Requirement already satisfied: decorator>=4.3.0 in /usr/local/lib/python3.10/dist-packages (from librosa) (4.4.2)\n",
            "Requirement already satisfied: numba>=0.51.0 in /usr/local/lib/python3.10/dist-packages (from librosa) (0.56.4)\n",
            "Collecting soundfile>=0.12.1 (from librosa)\n",
            "  Using cached soundfile-0.12.1-py2.py3-none-manylinux_2_31_x86_64.whl (1.2 MB)\n",
            "Requirement already satisfied: pooch>=1.0 in /usr/local/lib/python3.10/dist-packages (from librosa) (1.7.0)\n",
            "Requirement already satisfied: soxr>=0.3.2 in /usr/local/lib/python3.10/dist-packages (from librosa) (0.3.7)\n",
            "Requirement already satisfied: typing-extensions>=4.1.1 in /usr/local/lib/python3.10/dist-packages (from librosa) (4.5.0)\n",
            "Requirement already satisfied: lazy-loader>=0.1 in /usr/local/lib/python3.10/dist-packages (from librosa) (0.3)\n",
            "Requirement already satisfied: msgpack>=1.0 in /usr/local/lib/python3.10/dist-packages (from librosa) (1.0.7)\n",
            "Requirement already satisfied: llvmlite<0.40,>=0.39.0dev0 in /usr/local/lib/python3.10/dist-packages (from numba>=0.51.0->librosa) (0.39.1)\n",
            "Requirement already satisfied: setuptools in /usr/local/lib/python3.10/dist-packages (from numba>=0.51.0->librosa) (67.7.2)\n",
            "Requirement already satisfied: platformdirs>=2.5.0 in /usr/local/lib/python3.10/dist-packages (from pooch>=1.0->librosa) (3.11.0)\n",
            "Requirement already satisfied: packaging>=20.0 in /usr/local/lib/python3.10/dist-packages (from pooch>=1.0->librosa) (23.2)\n",
            "Requirement already satisfied: requests>=2.19.0 in /usr/local/lib/python3.10/dist-packages (from pooch>=1.0->librosa) (2.31.0)\n",
            "Requirement already satisfied: threadpoolctl>=2.0.0 in /usr/local/lib/python3.10/dist-packages (from scikit-learn>=0.20.0->librosa) (3.2.0)\n",
            "Requirement already satisfied: cffi>=1.0 in /usr/local/lib/python3.10/dist-packages (from soundfile>=0.12.1->librosa) (1.16.0)\n",
            "Requirement already satisfied: pycparser in /usr/local/lib/python3.10/dist-packages (from cffi>=1.0->soundfile>=0.12.1->librosa) (2.21)\n",
            "Requirement already satisfied: charset-normalizer<4,>=2 in /usr/local/lib/python3.10/dist-packages (from requests>=2.19.0->pooch>=1.0->librosa) (3.3.0)\n",
            "Requirement already satisfied: idna<4,>=2.5 in /usr/local/lib/python3.10/dist-packages (from requests>=2.19.0->pooch>=1.0->librosa) (3.4)\n",
            "Requirement already satisfied: urllib3<3,>=1.21.1 in /usr/local/lib/python3.10/dist-packages (from requests>=2.19.0->pooch>=1.0->librosa) (2.0.6)\n",
            "Requirement already satisfied: certifi>=2017.4.17 in /usr/local/lib/python3.10/dist-packages (from requests>=2.19.0->pooch>=1.0->librosa) (2023.7.22)\n",
            "Installing collected packages: soundfile\n",
            "  Attempting uninstall: soundfile\n",
            "    Found existing installation: SoundFile 0.10.3.post1\n",
            "    Uninstalling SoundFile-0.10.3.post1:\n",
            "      Successfully uninstalled SoundFile-0.10.3.post1\n",
            "\u001b[31mERROR: pip's dependency resolver does not currently take into account all the packages that are installed. This behaviour is the source of the following dependency conflicts.\n",
            "pytsmod 0.3.7 requires soundfile<0.11,>=0.10, but you have soundfile 0.12.1 which is incompatible.\u001b[0m\u001b[31m\n",
            "\u001b[0mSuccessfully installed soundfile-0.12.1\n"
          ]
        }
      ],
      "source": [
        "!pip install -U librosa"
      ]
    },
    {
      "cell_type": "code",
      "execution_count": 3,
      "metadata": {
        "id": "AHWdeessyP3R",
        "colab": {
          "base_uri": "https://localhost:8080/"
        },
        "outputId": "5316a977-9eb1-4c50-b9a4-783ac0fa6f58"
      },
      "outputs": [
        {
          "output_type": "stream",
          "name": "stdout",
          "text": [
            "Requirement already satisfied: noisereduce in /usr/local/lib/python3.10/dist-packages (3.0.0)\n",
            "Requirement already satisfied: scipy in /usr/local/lib/python3.10/dist-packages (from noisereduce) (1.11.3)\n",
            "Requirement already satisfied: matplotlib in /usr/local/lib/python3.10/dist-packages (from noisereduce) (3.7.1)\n",
            "Requirement already satisfied: librosa in /usr/local/lib/python3.10/dist-packages (from noisereduce) (0.10.1)\n",
            "Requirement already satisfied: numpy in /usr/local/lib/python3.10/dist-packages (from noisereduce) (1.23.5)\n",
            "Requirement already satisfied: tqdm in /usr/local/lib/python3.10/dist-packages (from noisereduce) (4.66.1)\n",
            "Requirement already satisfied: audioread>=2.1.9 in /usr/local/lib/python3.10/dist-packages (from librosa->noisereduce) (3.0.1)\n",
            "Requirement already satisfied: scikit-learn>=0.20.0 in /usr/local/lib/python3.10/dist-packages (from librosa->noisereduce) (1.2.2)\n",
            "Requirement already satisfied: joblib>=0.14 in /usr/local/lib/python3.10/dist-packages (from librosa->noisereduce) (1.3.2)\n",
            "Requirement already satisfied: decorator>=4.3.0 in /usr/local/lib/python3.10/dist-packages (from librosa->noisereduce) (4.4.2)\n",
            "Requirement already satisfied: numba>=0.51.0 in /usr/local/lib/python3.10/dist-packages (from librosa->noisereduce) (0.56.4)\n",
            "Requirement already satisfied: soundfile>=0.12.1 in /usr/local/lib/python3.10/dist-packages (from librosa->noisereduce) (0.12.1)\n",
            "Requirement already satisfied: pooch>=1.0 in /usr/local/lib/python3.10/dist-packages (from librosa->noisereduce) (1.7.0)\n",
            "Requirement already satisfied: soxr>=0.3.2 in /usr/local/lib/python3.10/dist-packages (from librosa->noisereduce) (0.3.7)\n",
            "Requirement already satisfied: typing-extensions>=4.1.1 in /usr/local/lib/python3.10/dist-packages (from librosa->noisereduce) (4.5.0)\n",
            "Requirement already satisfied: lazy-loader>=0.1 in /usr/local/lib/python3.10/dist-packages (from librosa->noisereduce) (0.3)\n",
            "Requirement already satisfied: msgpack>=1.0 in /usr/local/lib/python3.10/dist-packages (from librosa->noisereduce) (1.0.7)\n",
            "Requirement already satisfied: contourpy>=1.0.1 in /usr/local/lib/python3.10/dist-packages (from matplotlib->noisereduce) (1.1.1)\n",
            "Requirement already satisfied: cycler>=0.10 in /usr/local/lib/python3.10/dist-packages (from matplotlib->noisereduce) (0.12.1)\n",
            "Requirement already satisfied: fonttools>=4.22.0 in /usr/local/lib/python3.10/dist-packages (from matplotlib->noisereduce) (4.43.1)\n",
            "Requirement already satisfied: kiwisolver>=1.0.1 in /usr/local/lib/python3.10/dist-packages (from matplotlib->noisereduce) (1.4.5)\n",
            "Requirement already satisfied: packaging>=20.0 in /usr/local/lib/python3.10/dist-packages (from matplotlib->noisereduce) (23.2)\n",
            "Requirement already satisfied: pillow>=6.2.0 in /usr/local/lib/python3.10/dist-packages (from matplotlib->noisereduce) (9.4.0)\n",
            "Requirement already satisfied: pyparsing>=2.3.1 in /usr/local/lib/python3.10/dist-packages (from matplotlib->noisereduce) (3.1.1)\n",
            "Requirement already satisfied: python-dateutil>=2.7 in /usr/local/lib/python3.10/dist-packages (from matplotlib->noisereduce) (2.8.2)\n",
            "Requirement already satisfied: llvmlite<0.40,>=0.39.0dev0 in /usr/local/lib/python3.10/dist-packages (from numba>=0.51.0->librosa->noisereduce) (0.39.1)\n",
            "Requirement already satisfied: setuptools in /usr/local/lib/python3.10/dist-packages (from numba>=0.51.0->librosa->noisereduce) (67.7.2)\n",
            "Requirement already satisfied: platformdirs>=2.5.0 in /usr/local/lib/python3.10/dist-packages (from pooch>=1.0->librosa->noisereduce) (3.11.0)\n",
            "Requirement already satisfied: requests>=2.19.0 in /usr/local/lib/python3.10/dist-packages (from pooch>=1.0->librosa->noisereduce) (2.31.0)\n",
            "Requirement already satisfied: six>=1.5 in /usr/local/lib/python3.10/dist-packages (from python-dateutil>=2.7->matplotlib->noisereduce) (1.16.0)\n",
            "Requirement already satisfied: threadpoolctl>=2.0.0 in /usr/local/lib/python3.10/dist-packages (from scikit-learn>=0.20.0->librosa->noisereduce) (3.2.0)\n",
            "Requirement already satisfied: cffi>=1.0 in /usr/local/lib/python3.10/dist-packages (from soundfile>=0.12.1->librosa->noisereduce) (1.16.0)\n",
            "Requirement already satisfied: pycparser in /usr/local/lib/python3.10/dist-packages (from cffi>=1.0->soundfile>=0.12.1->librosa->noisereduce) (2.21)\n",
            "Requirement already satisfied: charset-normalizer<4,>=2 in /usr/local/lib/python3.10/dist-packages (from requests>=2.19.0->pooch>=1.0->librosa->noisereduce) (3.3.0)\n",
            "Requirement already satisfied: idna<4,>=2.5 in /usr/local/lib/python3.10/dist-packages (from requests>=2.19.0->pooch>=1.0->librosa->noisereduce) (3.4)\n",
            "Requirement already satisfied: urllib3<3,>=1.21.1 in /usr/local/lib/python3.10/dist-packages (from requests>=2.19.0->pooch>=1.0->librosa->noisereduce) (2.0.6)\n",
            "Requirement already satisfied: certifi>=2017.4.17 in /usr/local/lib/python3.10/dist-packages (from requests>=2.19.0->pooch>=1.0->librosa->noisereduce) (2023.7.22)\n"
          ]
        }
      ],
      "source": [
        "!pip install -U noisereduce\n",
        "\n"
      ]
    },
    {
      "cell_type": "code",
      "execution_count": 4,
      "metadata": {
        "id": "GSBg9d80Qyr8"
      },
      "outputs": [],
      "source": [
        "import pandas as pd\n",
        "import numpy as np"
      ]
    },
    {
      "cell_type": "code",
      "execution_count": 5,
      "metadata": {
        "id": "fWsW3-YEwGCR"
      },
      "outputs": [],
      "source": [
        "from sklearn.preprocessing import StandardScaler, MinMaxScaler, minmax_scale\n",
        "from sklearn.decomposition import PCA"
      ]
    },
    {
      "cell_type": "code",
      "execution_count": 6,
      "metadata": {
        "colab": {
          "base_uri": "https://localhost:8080/"
        },
        "id": "Gizo4pI3RAt_",
        "outputId": "61782374-fc90-4b95-f88d-ce73d716be06"
      },
      "outputs": [
        {
          "output_type": "stream",
          "name": "stdout",
          "text": [
            "2.0.1+cu118\n",
            "2.0.2+cu118\n",
            "0.10.1\n"
          ]
        }
      ],
      "source": [
        "import librosa\n",
        "\n",
        "import os\n",
        "\n",
        "import math\n",
        "import matplotlib.pyplot as plt\n",
        "import requests\n",
        "from IPython.display import Audio, display\n",
        "\n",
        "import soundfile as sf\n",
        "\n",
        "import torch\n",
        "import torchaudio\n",
        "import torchaudio.functional as F\n",
        "import torchaudio.transforms as T\n",
        "\n",
        "import librosa.display\n",
        "\n",
        "print(torch.__version__)\n",
        "print(torchaudio.__version__)\n",
        "print(librosa.__version__)\n"
      ]
    },
    {
      "cell_type": "code",
      "execution_count": 7,
      "metadata": {
        "id": "PHLOr-jpRd9-"
      },
      "outputs": [],
      "source": [
        "import logging"
      ]
    },
    {
      "cell_type": "code",
      "execution_count": 8,
      "metadata": {
        "colab": {
          "base_uri": "https://localhost:8080/"
        },
        "id": "UGa9m_mvRiVR",
        "outputId": "ae006639-cc98-489a-bdfd-bd10a3bf565b"
      },
      "outputs": [
        {
          "output_type": "stream",
          "name": "stdout",
          "text": [
            "Drive already mounted at /content/drive; to attempt to forcibly remount, call drive.mount(\"/content/drive\", force_remount=True).\n"
          ]
        }
      ],
      "source": [
        "from google.colab import drive\n",
        "drive.mount('/content/drive')"
      ]
    },
    {
      "cell_type": "code",
      "execution_count": 9,
      "metadata": {
        "id": "iyWK7oC-Rpnw"
      },
      "outputs": [],
      "source": [
        "# !apt-get install libsox-fmt-all libsox-dev sox\n",
        "from IPython.display import Audio\n",
        "\n",
        "import pickle"
      ]
    },
    {
      "cell_type": "markdown",
      "source": [
        "# Import data"
      ],
      "metadata": {
        "id": "siniUeqr8d1X"
      }
    },
    {
      "cell_type": "code",
      "execution_count": 10,
      "metadata": {
        "id": "gPGfAP_fRvF4"
      },
      "outputs": [],
      "source": [
        "SAMPLE_PATH = \"/content/drive/MyDrive/new_accent_speech_archieve/\"\n",
        "\n",
        "pathsplit1 = \"{}saa_split1.csv\".format(SAMPLE_PATH)\n",
        "pathsplit2 = \"{}saa_split2.csv\".format(SAMPLE_PATH)\n",
        "pathsplit3 = \"{}saa_split3.csv\".format(SAMPLE_PATH)\n",
        "pathsplit4 = \"{}saa_split4.csv\".format(SAMPLE_PATH)\n",
        "pathsplit5 = \"{}saa_split5.csv\".format(SAMPLE_PATH)\n",
        "\n",
        "pathtestsplit1 = \"{}saa_test_split1.csv\".format(SAMPLE_PATH)\n",
        "pathtestsplit2 = \"{}saa_test_split2.csv\".format(SAMPLE_PATH)\n",
        "pathtestsplit3 = \"{}saa_test_split3.csv\".format(SAMPLE_PATH)\n",
        "pathtestsplit4 = \"{}saa_test_split4.csv\".format(SAMPLE_PATH)\n",
        "pathtestsplit5 = \"{}saa_test_split5.csv\".format(SAMPLE_PATH)\n",
        "\n",
        "ORISAMPLE_PATH = '{}new_speakers_as_archieve.csv'.format(SAMPLE_PATH)\n",
        "\n",
        "PROCESSEDSAMPLE_PATH = '{}DF_Proc.csv'.format(SAMPLE_PATH)"
      ]
    },
    {
      "cell_type": "markdown",
      "source": [
        "# Load function for spectral"
      ],
      "metadata": {
        "id": "KhsKI46J8nmc"
      }
    },
    {
      "cell_type": "code",
      "execution_count": 11,
      "metadata": {
        "id": "5w6ddPcGyPWH"
      },
      "outputs": [],
      "source": [
        "import os\n",
        "if not os.path.exists(\"waveform\"):\n",
        "    os.makedirs(\"waveform\")\n",
        "\n",
        "def fetch_waveform(list_files, downloadable=False):\n",
        "  existswav = 0\n",
        "  if downloadable == True:\n",
        "      for filesname in tqdm(list_files):\n",
        "        files = \"{}.wav\".format(filesname)\n",
        "        file_name = \"waveform/{}\".format(files)\n",
        "        if os.path.isfile(file_name):\n",
        "            existswav += 1\n",
        "      print(existswav)\n"
      ]
    },
    {
      "cell_type": "code",
      "execution_count": 12,
      "metadata": {
        "id": "tK9A9f0Vlvcb"
      },
      "outputs": [],
      "source": [
        "#@title\n",
        "# EX Filtered\n",
        "# filtered = ['arabic', 'dutch', 'english', 'french', 'korean', 'mandarin', 'portuguese', 'russian', 'spanish']\n",
        "def get_df_by_natlang(df_unpro, filtered):\n",
        "    selected = []\n",
        "    for idx, datas in df_unpro.iterrows():\n",
        "        if(datas['native_language'] in filtered):\n",
        "            selected.append(datas)\n",
        "\n",
        "    df_selected = pd.DataFrame(selected)\n",
        "    df_selected.reset_index(drop=True, inplace=True)\n",
        "    return df_selected\n",
        "\n",
        "def get_df_by_filter_1(df_unpro):\n",
        "    selected = []\n",
        "    for idx, datas in df_unpro.iterrows():\n",
        "        if(datas['native_language'] == \"english\"):\n",
        "            if(\"usa\" in datas['birth_place'].split(\", \")):\n",
        "              selected.append(datas)\n",
        "            elif(\"uk\" in datas['birth_place'].split(\", \")):\n",
        "              selected.append(datas)\n",
        "            else:\n",
        "              continue\n",
        "        else:\n",
        "          selected.append(datas)\n",
        "    df_selected = pd.DataFrame(selected)\n",
        "    df_selected.reset_index(drop=True, inplace=True)\n",
        "    return df_selected\n",
        "\n",
        "def get_df_by_filter_2(df_unpro):\n",
        "    selected = []\n",
        "    for idx, datas in df_unpro.iterrows():\n",
        "        if(datas['sex'] == ' male '):\n",
        "            selected.append(datas)\n",
        "    print(len(selected))\n",
        "    df_selected = pd.DataFrame(selected)\n",
        "    df_selected.reset_index(drop=True, inplace=True)\n",
        "\n",
        "    return df_selected"
      ]
    },
    {
      "cell_type": "markdown",
      "source": [
        "# Generate dataset"
      ],
      "metadata": {
        "id": "YKJ-dZdM814D"
      }
    },
    {
      "cell_type": "code",
      "execution_count": 13,
      "metadata": {
        "id": "bcgb_iaXlEQz"
      },
      "outputs": [],
      "source": [
        "#@title\n",
        "def cleaning_pandas(df_unpro):\n",
        "    df_unpro['age'] = df_unpro['age'].replace(' ', np.nan)\n",
        "\n",
        "    df_unpro['age'] = df_unpro['age'].astype(float)\n",
        "\n",
        "    df_unpro = df_unpro.drop(df_unpro[df_unpro['filename'].isna()].index)\n",
        "\n",
        "    df_unpro.loc[df_unpro['birth_place'].isna(), 'english_learning_method'] = \"machine\"\n",
        "\n",
        "    df_unpro.loc[df_unpro['english_learning_method'].isna(), 'english_learning_method'] = \"naturalistic\"\n",
        "\n",
        "    df_unpro.loc[df_unpro['english_learning_method'] == 'naturalisstic', 'english_learning_method'] = \"naturalistic\"\n",
        "\n",
        "    df_unpro.loc[df_unpro['english_residence'].isna(), 'english_residence'] = \"never\"\n",
        "\n",
        "    num_labels = len(df_unpro['native_language'].unique())\n",
        "\n",
        "    return df_unpro"
      ]
    },
    {
      "cell_type": "markdown",
      "metadata": {
        "id": "IVQ1tsV9WHjN"
      },
      "source": [
        "Func Dump2Upload _ create_obj_waves"
      ]
    },
    {
      "cell_type": "code",
      "execution_count": 14,
      "metadata": {
        "id": "9BY4BwxXmsk-"
      },
      "outputs": [],
      "source": [
        "#@title\n",
        "\n",
        "import soundfile as sf\n",
        "\n",
        "# import noisereduce as nr\n",
        "\n",
        "def Dump_2_upload(data2up, filename):\n",
        "    fnpath = \"{}.pkl\".format(filename)\n",
        "    fdata = open(fnpath, \"wb+\")\n",
        "    pickle.dump(data2up, fdata)\n",
        "    fdata.close()\n",
        "\n",
        "    file_name = fnpath\n",
        "    bucket = \"malaustorage\"\n",
        "    object_name = \"datasets_images_saa/{}\".format(file_name)\n",
        "    try:\n",
        "        response = s3_client.upload_file(file_name, bucket, object_name)\n",
        "        # s3_client.download_file('malaustorage', object_name, file_name)\n",
        "    except ClientError as e:\n",
        "        logging.error(e)\n",
        "        print(0)\n",
        "    print(1)\n",
        "\n",
        "def Dump_2_upload_drive(data2up, filename):\n",
        "    FEATOBJ_PATH = \"/content/drive/MyDrive/Feat Object/\"\n",
        "    fnpath = \"{}{}.pkl\".format(FEATOBJ_PATH, filename)\n",
        "    fdata = open(fnpath, \"wb+\")\n",
        "    pickle.dump(data2up, fdata)\n",
        "    fdata.close()\n",
        "\n",
        "def create_obj_waves(df_unpro, createable=False, load_from_drive=False, DF_only=False):\n",
        "    wavesobj = {}\n",
        "    waves2fn = []\n",
        "    f22length = []\n",
        "    srates = []\n",
        "\n",
        "\n",
        "    file_list = df_unpro['filename']\n",
        "\n",
        "    if createable == True:\n",
        "        for datas in tqdm(file_list):\n",
        "            fndata = datas\n",
        "            filenames = \"waveform/{}.wav\".format(datas)\n",
        "            wavesform, sample_rate= librosa.load(filenames)\n",
        "\n",
        "            waveform = nr.reduce_noise(y=wavesform, sr=sample_rate, stationary=True, prop_decrease=0.9)\n",
        "            waveform = wavesform\n",
        "\n",
        "            f22length.append(float(len(waveform) / sample_rate))\n",
        "            srates.append(sample_rate)\n",
        "            waves2fn.append(waveform)\n",
        "\n",
        "        df_unpro[\"waves\"] = waves2fn\n",
        "        df_unpro[\"length\"] = f22length\n",
        "        df_unpro[\"samplerate\"] = srates\n",
        "\n",
        "        fnpath = \"{}.pkl\".format(\"Temp_wavesobject\")\n",
        "        fdata = open(fnpath, \"wb+\")\n",
        "        pickle.dump(df_unpro, fdata)\n",
        "        fdata.close()\n",
        "    else:\n",
        "        if load_from_drive:\n",
        "            if DF_only:\n",
        "              SAMPLE_PATH = \"/content/drive/MyDrive/new_accent_speech_archieve/\"\n",
        "              fnpath = \"{}{}\".format(SAMPLE_PATH, \"DF_Proc.csv\")\n",
        "\n",
        "              df_unpro = pd.read_csv(fnpath)\n",
        "            else:\n",
        "              SAMPLE_PATH = \"/content/drive/MyDrive/new_accent_speech_archieve/\"\n",
        "              fnpath = \"{}{}.pkl\".format(SAMPLE_PATH, \"Temp_wavesobject\")\n",
        "              ftdata1 = open(fnpath, \"rb\")\n",
        "\n",
        "              unpockt = pickle.Unpickler(ftdata1)\n",
        "              df_unpro = unpockt.load()\n",
        "\n",
        "              ftdata1.close()\n",
        "\n",
        "        else:\n",
        "            fnpath = \"{}.pkl\".format(\"Temp_wavesobject\")\n",
        "            ftdata1 = open(fnpath, \"rb\")\n",
        "\n",
        "            unpockt = pickle.Unpickler(ftdata1)\n",
        "            df_unpro = unpockt.load()\n",
        "\n",
        "            ftdata1.close()\n",
        "\n",
        "\n",
        "    return df_unpro"
      ]
    },
    {
      "cell_type": "code",
      "execution_count": 15,
      "metadata": {
        "id": "ub4rA-pxtmEO"
      },
      "outputs": [],
      "source": [
        "from tqdm.notebook import tqdm"
      ]
    },
    {
      "cell_type": "markdown",
      "source": [
        "# Read csv files"
      ],
      "metadata": {
        "id": "w0XZ0A9a9Bi0"
      }
    },
    {
      "cell_type": "code",
      "execution_count": 16,
      "metadata": {
        "id": "-m1G62Wqkx-A"
      },
      "outputs": [],
      "source": [
        "df_unpro_ori = pd.read_csv(ORISAMPLE_PATH)\n",
        "\n",
        "df_unpro_ori = cleaning_pandas(df_unpro_ori)"
      ]
    },
    {
      "cell_type": "code",
      "execution_count": 17,
      "metadata": {
        "colab": {
          "base_uri": "https://localhost:8080/",
          "height": 313
        },
        "id": "e5zxbUCTaUg8",
        "outputId": "32f6b42c-b5bf-4cb3-d849-3310e66b6bdd"
      },
      "outputs": [
        {
          "output_type": "execute_result",
          "data": {
            "text/plain": [
              "   speaker_id    filename             birth_place native_language   age  \\\n",
              "0           1  afrikaans1  virginia, south africa       afrikaans  27.0   \n",
              "1           2  afrikaans2  pretoria, south africa       afrikaans  40.0   \n",
              "2           3       agni1    diekabo, ivory coast            agni  25.0   \n",
              "3           4   albanian1       prishtina, kosovo        albanian  19.0   \n",
              "4           5   albanian2         tirana, albania        albanian  33.0   \n",
              "\n",
              "        sex  age_of_english_onset english_learning_method english_residence  \\\n",
              "0   female                    9.0                academic               usa   \n",
              "1     male                    5.0                academic               usa   \n",
              "2     male                   15.0                academic               usa   \n",
              "3     male                    6.0            naturalistic               usa   \n",
              "4     male                   15.0            naturalistic               usa   \n",
              "\n",
              "   length_of_english_residence  \n",
              "0                         0.50  \n",
              "1                        10.00  \n",
              "2                         1.20  \n",
              "3                         3.00  \n",
              "4                         0.04  "
            ],
            "text/html": [
              "\n",
              "  <div id=\"df-0f633d5a-5e61-4958-84e6-29b3bfa6a05f\" class=\"colab-df-container\">\n",
              "    <div>\n",
              "<style scoped>\n",
              "    .dataframe tbody tr th:only-of-type {\n",
              "        vertical-align: middle;\n",
              "    }\n",
              "\n",
              "    .dataframe tbody tr th {\n",
              "        vertical-align: top;\n",
              "    }\n",
              "\n",
              "    .dataframe thead th {\n",
              "        text-align: right;\n",
              "    }\n",
              "</style>\n",
              "<table border=\"1\" class=\"dataframe\">\n",
              "  <thead>\n",
              "    <tr style=\"text-align: right;\">\n",
              "      <th></th>\n",
              "      <th>speaker_id</th>\n",
              "      <th>filename</th>\n",
              "      <th>birth_place</th>\n",
              "      <th>native_language</th>\n",
              "      <th>age</th>\n",
              "      <th>sex</th>\n",
              "      <th>age_of_english_onset</th>\n",
              "      <th>english_learning_method</th>\n",
              "      <th>english_residence</th>\n",
              "      <th>length_of_english_residence</th>\n",
              "    </tr>\n",
              "  </thead>\n",
              "  <tbody>\n",
              "    <tr>\n",
              "      <th>0</th>\n",
              "      <td>1</td>\n",
              "      <td>afrikaans1</td>\n",
              "      <td>virginia, south africa</td>\n",
              "      <td>afrikaans</td>\n",
              "      <td>27.0</td>\n",
              "      <td>female</td>\n",
              "      <td>9.0</td>\n",
              "      <td>academic</td>\n",
              "      <td>usa</td>\n",
              "      <td>0.50</td>\n",
              "    </tr>\n",
              "    <tr>\n",
              "      <th>1</th>\n",
              "      <td>2</td>\n",
              "      <td>afrikaans2</td>\n",
              "      <td>pretoria, south africa</td>\n",
              "      <td>afrikaans</td>\n",
              "      <td>40.0</td>\n",
              "      <td>male</td>\n",
              "      <td>5.0</td>\n",
              "      <td>academic</td>\n",
              "      <td>usa</td>\n",
              "      <td>10.00</td>\n",
              "    </tr>\n",
              "    <tr>\n",
              "      <th>2</th>\n",
              "      <td>3</td>\n",
              "      <td>agni1</td>\n",
              "      <td>diekabo, ivory coast</td>\n",
              "      <td>agni</td>\n",
              "      <td>25.0</td>\n",
              "      <td>male</td>\n",
              "      <td>15.0</td>\n",
              "      <td>academic</td>\n",
              "      <td>usa</td>\n",
              "      <td>1.20</td>\n",
              "    </tr>\n",
              "    <tr>\n",
              "      <th>3</th>\n",
              "      <td>4</td>\n",
              "      <td>albanian1</td>\n",
              "      <td>prishtina, kosovo</td>\n",
              "      <td>albanian</td>\n",
              "      <td>19.0</td>\n",
              "      <td>male</td>\n",
              "      <td>6.0</td>\n",
              "      <td>naturalistic</td>\n",
              "      <td>usa</td>\n",
              "      <td>3.00</td>\n",
              "    </tr>\n",
              "    <tr>\n",
              "      <th>4</th>\n",
              "      <td>5</td>\n",
              "      <td>albanian2</td>\n",
              "      <td>tirana, albania</td>\n",
              "      <td>albanian</td>\n",
              "      <td>33.0</td>\n",
              "      <td>male</td>\n",
              "      <td>15.0</td>\n",
              "      <td>naturalistic</td>\n",
              "      <td>usa</td>\n",
              "      <td>0.04</td>\n",
              "    </tr>\n",
              "  </tbody>\n",
              "</table>\n",
              "</div>\n",
              "    <div class=\"colab-df-buttons\">\n",
              "\n",
              "  <div class=\"colab-df-container\">\n",
              "    <button class=\"colab-df-convert\" onclick=\"convertToInteractive('df-0f633d5a-5e61-4958-84e6-29b3bfa6a05f')\"\n",
              "            title=\"Convert this dataframe to an interactive table.\"\n",
              "            style=\"display:none;\">\n",
              "\n",
              "  <svg xmlns=\"http://www.w3.org/2000/svg\" height=\"24px\" viewBox=\"0 -960 960 960\">\n",
              "    <path d=\"M120-120v-720h720v720H120Zm60-500h600v-160H180v160Zm220 220h160v-160H400v160Zm0 220h160v-160H400v160ZM180-400h160v-160H180v160Zm440 0h160v-160H620v160ZM180-180h160v-160H180v160Zm440 0h160v-160H620v160Z\"/>\n",
              "  </svg>\n",
              "    </button>\n",
              "\n",
              "  <style>\n",
              "    .colab-df-container {\n",
              "      display:flex;\n",
              "      gap: 12px;\n",
              "    }\n",
              "\n",
              "    .colab-df-convert {\n",
              "      background-color: #E8F0FE;\n",
              "      border: none;\n",
              "      border-radius: 50%;\n",
              "      cursor: pointer;\n",
              "      display: none;\n",
              "      fill: #1967D2;\n",
              "      height: 32px;\n",
              "      padding: 0 0 0 0;\n",
              "      width: 32px;\n",
              "    }\n",
              "\n",
              "    .colab-df-convert:hover {\n",
              "      background-color: #E2EBFA;\n",
              "      box-shadow: 0px 1px 2px rgba(60, 64, 67, 0.3), 0px 1px 3px 1px rgba(60, 64, 67, 0.15);\n",
              "      fill: #174EA6;\n",
              "    }\n",
              "\n",
              "    .colab-df-buttons div {\n",
              "      margin-bottom: 4px;\n",
              "    }\n",
              "\n",
              "    [theme=dark] .colab-df-convert {\n",
              "      background-color: #3B4455;\n",
              "      fill: #D2E3FC;\n",
              "    }\n",
              "\n",
              "    [theme=dark] .colab-df-convert:hover {\n",
              "      background-color: #434B5C;\n",
              "      box-shadow: 0px 1px 3px 1px rgba(0, 0, 0, 0.15);\n",
              "      filter: drop-shadow(0px 1px 2px rgba(0, 0, 0, 0.3));\n",
              "      fill: #FFFFFF;\n",
              "    }\n",
              "  </style>\n",
              "\n",
              "    <script>\n",
              "      const buttonEl =\n",
              "        document.querySelector('#df-0f633d5a-5e61-4958-84e6-29b3bfa6a05f button.colab-df-convert');\n",
              "      buttonEl.style.display =\n",
              "        google.colab.kernel.accessAllowed ? 'block' : 'none';\n",
              "\n",
              "      async function convertToInteractive(key) {\n",
              "        const element = document.querySelector('#df-0f633d5a-5e61-4958-84e6-29b3bfa6a05f');\n",
              "        const dataTable =\n",
              "          await google.colab.kernel.invokeFunction('convertToInteractive',\n",
              "                                                    [key], {});\n",
              "        if (!dataTable) return;\n",
              "\n",
              "        const docLinkHtml = 'Like what you see? Visit the ' +\n",
              "          '<a target=\"_blank\" href=https://colab.research.google.com/notebooks/data_table.ipynb>data table notebook</a>'\n",
              "          + ' to learn more about interactive tables.';\n",
              "        element.innerHTML = '';\n",
              "        dataTable['output_type'] = 'display_data';\n",
              "        await google.colab.output.renderOutput(dataTable, element);\n",
              "        const docLink = document.createElement('div');\n",
              "        docLink.innerHTML = docLinkHtml;\n",
              "        element.appendChild(docLink);\n",
              "      }\n",
              "    </script>\n",
              "  </div>\n",
              "\n",
              "\n",
              "<div id=\"df-79802de0-8265-4f62-8c09-2c77edf8b214\">\n",
              "  <button class=\"colab-df-quickchart\" onclick=\"quickchart('df-79802de0-8265-4f62-8c09-2c77edf8b214')\"\n",
              "            title=\"Suggest charts.\"\n",
              "            style=\"display:none;\">\n",
              "\n",
              "<svg xmlns=\"http://www.w3.org/2000/svg\" height=\"24px\"viewBox=\"0 0 24 24\"\n",
              "     width=\"24px\">\n",
              "    <g>\n",
              "        <path d=\"M19 3H5c-1.1 0-2 .9-2 2v14c0 1.1.9 2 2 2h14c1.1 0 2-.9 2-2V5c0-1.1-.9-2-2-2zM9 17H7v-7h2v7zm4 0h-2V7h2v10zm4 0h-2v-4h2v4z\"/>\n",
              "    </g>\n",
              "</svg>\n",
              "  </button>\n",
              "\n",
              "<style>\n",
              "  .colab-df-quickchart {\n",
              "      --bg-color: #E8F0FE;\n",
              "      --fill-color: #1967D2;\n",
              "      --hover-bg-color: #E2EBFA;\n",
              "      --hover-fill-color: #174EA6;\n",
              "      --disabled-fill-color: #AAA;\n",
              "      --disabled-bg-color: #DDD;\n",
              "  }\n",
              "\n",
              "  [theme=dark] .colab-df-quickchart {\n",
              "      --bg-color: #3B4455;\n",
              "      --fill-color: #D2E3FC;\n",
              "      --hover-bg-color: #434B5C;\n",
              "      --hover-fill-color: #FFFFFF;\n",
              "      --disabled-bg-color: #3B4455;\n",
              "      --disabled-fill-color: #666;\n",
              "  }\n",
              "\n",
              "  .colab-df-quickchart {\n",
              "    background-color: var(--bg-color);\n",
              "    border: none;\n",
              "    border-radius: 50%;\n",
              "    cursor: pointer;\n",
              "    display: none;\n",
              "    fill: var(--fill-color);\n",
              "    height: 32px;\n",
              "    padding: 0;\n",
              "    width: 32px;\n",
              "  }\n",
              "\n",
              "  .colab-df-quickchart:hover {\n",
              "    background-color: var(--hover-bg-color);\n",
              "    box-shadow: 0 1px 2px rgba(60, 64, 67, 0.3), 0 1px 3px 1px rgba(60, 64, 67, 0.15);\n",
              "    fill: var(--button-hover-fill-color);\n",
              "  }\n",
              "\n",
              "  .colab-df-quickchart-complete:disabled,\n",
              "  .colab-df-quickchart-complete:disabled:hover {\n",
              "    background-color: var(--disabled-bg-color);\n",
              "    fill: var(--disabled-fill-color);\n",
              "    box-shadow: none;\n",
              "  }\n",
              "\n",
              "  .colab-df-spinner {\n",
              "    border: 2px solid var(--fill-color);\n",
              "    border-color: transparent;\n",
              "    border-bottom-color: var(--fill-color);\n",
              "    animation:\n",
              "      spin 1s steps(1) infinite;\n",
              "  }\n",
              "\n",
              "  @keyframes spin {\n",
              "    0% {\n",
              "      border-color: transparent;\n",
              "      border-bottom-color: var(--fill-color);\n",
              "      border-left-color: var(--fill-color);\n",
              "    }\n",
              "    20% {\n",
              "      border-color: transparent;\n",
              "      border-left-color: var(--fill-color);\n",
              "      border-top-color: var(--fill-color);\n",
              "    }\n",
              "    30% {\n",
              "      border-color: transparent;\n",
              "      border-left-color: var(--fill-color);\n",
              "      border-top-color: var(--fill-color);\n",
              "      border-right-color: var(--fill-color);\n",
              "    }\n",
              "    40% {\n",
              "      border-color: transparent;\n",
              "      border-right-color: var(--fill-color);\n",
              "      border-top-color: var(--fill-color);\n",
              "    }\n",
              "    60% {\n",
              "      border-color: transparent;\n",
              "      border-right-color: var(--fill-color);\n",
              "    }\n",
              "    80% {\n",
              "      border-color: transparent;\n",
              "      border-right-color: var(--fill-color);\n",
              "      border-bottom-color: var(--fill-color);\n",
              "    }\n",
              "    90% {\n",
              "      border-color: transparent;\n",
              "      border-bottom-color: var(--fill-color);\n",
              "    }\n",
              "  }\n",
              "</style>\n",
              "\n",
              "  <script>\n",
              "    async function quickchart(key) {\n",
              "      const quickchartButtonEl =\n",
              "        document.querySelector('#' + key + ' button');\n",
              "      quickchartButtonEl.disabled = true;  // To prevent multiple clicks.\n",
              "      quickchartButtonEl.classList.add('colab-df-spinner');\n",
              "      try {\n",
              "        const charts = await google.colab.kernel.invokeFunction(\n",
              "            'suggestCharts', [key], {});\n",
              "      } catch (error) {\n",
              "        console.error('Error during call to suggestCharts:', error);\n",
              "      }\n",
              "      quickchartButtonEl.classList.remove('colab-df-spinner');\n",
              "      quickchartButtonEl.classList.add('colab-df-quickchart-complete');\n",
              "    }\n",
              "    (() => {\n",
              "      let quickchartButtonEl =\n",
              "        document.querySelector('#df-79802de0-8265-4f62-8c09-2c77edf8b214 button');\n",
              "      quickchartButtonEl.style.display =\n",
              "        google.colab.kernel.accessAllowed ? 'block' : 'none';\n",
              "    })();\n",
              "  </script>\n",
              "</div>\n",
              "    </div>\n",
              "  </div>\n"
            ]
          },
          "metadata": {},
          "execution_count": 17
        }
      ],
      "source": [
        "df_unpro_ori.head()"
      ]
    },
    {
      "cell_type": "code",
      "execution_count": 18,
      "metadata": {
        "id": "--hUkEVGuWqE"
      },
      "outputs": [],
      "source": [
        "#  print(np.unique(df_unpro_ori['native_language'], return_counts=True))"
      ]
    },
    {
      "cell_type": "code",
      "execution_count": 19,
      "metadata": {
        "colab": {
          "base_uri": "https://localhost:8080/"
        },
        "id": "A5wvv8NYNkoU",
        "outputId": "f0267238-0e6b-4c0a-c440-4f16b1fa50d9"
      },
      "outputs": [
        {
          "output_type": "stream",
          "name": "stdout",
          "text": [
            "(array([' female ', ' male '], dtype=object), array([1518, 1464]))\n"
          ]
        }
      ],
      "source": [
        "print(np.unique(df_unpro_ori['sex'], return_counts=True))"
      ]
    },
    {
      "cell_type": "code",
      "execution_count": 20,
      "metadata": {
        "colab": {
          "base_uri": "https://localhost:8080/"
        },
        "id": "GKGzwj74mDB7",
        "outputId": "3f82b5c0-808c-4fd9-85b5-8be52f329910"
      },
      "outputs": [
        {
          "output_type": "execute_result",
          "data": {
            "text/plain": [
              "1418"
            ]
          },
          "metadata": {},
          "execution_count": 20
        }
      ],
      "source": [
        "# filtered = ['english', 'arabic', 'dutch','french', 'korean', 'mandarin', 'portuguese', 'russian', 'spanish']\n",
        "\n",
        "filtered = ['english', 'arabic', 'french', 'korean', 'mandarin', 'spanish']\n",
        "\n",
        "df_unpro = get_df_by_natlang(df_unpro_ori, filtered)\n",
        "\n",
        "list_files = df_unpro['filename']\n",
        "# birth_place = df_unpro2['birth_place']\n",
        "fetch_waveform(list_files, downloadable=False)\n",
        "# fetch_waveform_PV(list_files, \"2\", downloadable=True)\n",
        "list_files.count()"
      ]
    },
    {
      "cell_type": "code",
      "execution_count": 21,
      "metadata": {
        "id": "CYcKYVv7juyt"
      },
      "outputs": [],
      "source": [
        "\n",
        "# manas"
      ]
    },
    {
      "cell_type": "code",
      "execution_count": 22,
      "metadata": {
        "id": "YeABsDAma_lS"
      },
      "outputs": [],
      "source": [
        "# df_unpro.count()"
      ]
    },
    {
      "cell_type": "code",
      "execution_count": 23,
      "metadata": {
        "id": "qwHc7h3PbMIo"
      },
      "outputs": [],
      "source": [
        "# df_unpro2.count()"
      ]
    },
    {
      "cell_type": "code",
      "execution_count": 24,
      "metadata": {
        "id": "IjEO0Ibab5cH"
      },
      "outputs": [],
      "source": [
        "# for births in birth_place:\n",
        "    # print(births)"
      ]
    },
    {
      "cell_type": "code",
      "execution_count": 25,
      "metadata": {
        "id": "gteHa_FWctnJ"
      },
      "outputs": [],
      "source": [
        "# df_unpro2.loc[724]"
      ]
    },
    {
      "cell_type": "code",
      "execution_count": 26,
      "metadata": {
        "id": "ar0JAo04tvOJ"
      },
      "outputs": [],
      "source": [
        "# manas"
      ]
    },
    {
      "cell_type": "markdown",
      "source": [
        "# Check all data from each language"
      ],
      "metadata": {
        "id": "42jf22iM9W4A"
      }
    },
    {
      "cell_type": "code",
      "execution_count": 27,
      "metadata": {
        "colab": {
          "base_uri": "https://localhost:8080/"
        },
        "id": "AfrkKsMjOyCG",
        "outputId": "ce53d727-5b9f-46ec-9682-2985a8fcceed"
      },
      "outputs": [
        {
          "output_type": "stream",
          "name": "stdout",
          "text": [
            "{'arabic': 200, 'english': 650, 'french': 85, 'korean': 97, 'mandarin': 153, 'spanish': 233}\n"
          ]
        }
      ],
      "source": [
        "natlang = df_unpro['native_language']\n",
        "\n",
        "uniqlang = np.unique(natlang, return_counts=True)\n",
        "\n",
        "total_lang = dict(zip(uniqlang[0], uniqlang[1]))\n",
        "\n",
        "print(total_lang)"
      ]
    },
    {
      "cell_type": "code",
      "execution_count": 28,
      "metadata": {
        "id": "IIw8U8Gaqx-C"
      },
      "outputs": [],
      "source": [
        "import random"
      ]
    },
    {
      "cell_type": "code",
      "execution_count": 29,
      "metadata": {
        "colab": {
          "base_uri": "https://localhost:8080/"
        },
        "id": "20Y2XZFv6E1e",
        "outputId": "e029fd91-3afc-4bb0-9252-3b39220c5ef6"
      },
      "outputs": [
        {
          "output_type": "execute_result",
          "data": {
            "text/plain": [
              "['english', 'arabic', 'french', 'korean', 'mandarin', 'spanish']"
            ]
          },
          "metadata": {},
          "execution_count": 29
        }
      ],
      "source": [
        "filtered"
      ]
    },
    {
      "cell_type": "code",
      "execution_count": 30,
      "metadata": {
        "id": "6dcI2dWLnJwq"
      },
      "outputs": [],
      "source": [
        "wavesobj = create_obj_waves(df_unpro, createable=False, load_from_drive=True, DF_only=False)"
      ]
    },
    {
      "cell_type": "code",
      "execution_count": 31,
      "metadata": {
        "id": "4mS2OblI6Au3"
      },
      "outputs": [],
      "source": [
        "wavesobj_proc = get_df_by_natlang(wavesobj, filtered)"
      ]
    },
    {
      "cell_type": "code",
      "execution_count": 32,
      "metadata": {
        "colab": {
          "base_uri": "https://localhost:8080/"
        },
        "id": "xUGfAiZqH-ut",
        "outputId": "ada18348-a26a-46d9-a8d7-6e9cbb97130e"
      },
      "outputs": [
        {
          "output_type": "stream",
          "name": "stdout",
          "text": [
            "Index(['speaker_id', 'filename', 'birth_place', 'native_language', 'age',\n",
            "       'sex', 'age_of_english_onset', 'english_learning_method',\n",
            "       'english_residence', 'length_of_english_residence', 'length',\n",
            "       'samplerate', 'waves'],\n",
            "      dtype='object')\n"
          ]
        }
      ],
      "source": [
        "print(wavesobj_proc.keys())"
      ]
    },
    {
      "cell_type": "markdown",
      "source": [
        "# BUILD CLASS for Converting signal into Features\n",
        "\n",
        "3 scenarios :\n",
        "1. Average duration of each languages\n",
        "2. Average duration of all datas\n",
        "3. Average duration of each languages and average duration of english"
      ],
      "metadata": {
        "id": "SIFSEzoBeIjh"
      }
    },
    {
      "cell_type": "code",
      "source": [
        "import pytsmod as tsm\n",
        "\n",
        "from sklearn.cluster import KMeans\n",
        "\n",
        "class Features_signal_malau:\n",
        "    def __init__(self, data_fn):\n",
        "        self.dur_pv1 = None\n",
        "        self.dur_pv2 = None\n",
        "        self.dur_pv3 = None\n",
        "        self.data_fn = data_fn.copy()\n",
        "        self.cols_check = ['speaker_id', 'filename', 'birth_place', 'native_language', 'age', 'sex', 'age_of_english_onset', 'english_learning_method', 'english_residence', 'length_of_english_residence', 'length', 'samplerate', 'waves']\n",
        "        self.waves_data = {}\n",
        "        self.data_features = {}\n",
        "\n",
        "    def transform_phase_vovoder(self, pv_version, audio, audio_fname):\n",
        "        if pv_version == 1:\n",
        "            target_durs_pv = self.dur_pv1\n",
        "        elif pv_version == 2:\n",
        "            target_durs_pv = self.dur_pv2\n",
        "        elif pv_version == 3:\n",
        "            target_durs_pv = self.dur_pv3\n",
        "\n",
        "        rates_ch = target_durs_pv[audio_fname]\n",
        "        y_change  = tsm.phase_vocoder(audio, rates_ch, restore_energy=True, phase_lock=True)\n",
        "        return y_change\n",
        "\n",
        "    def __validate_data_frame(self, data_fn, datas_audio):\n",
        "        if len(data_fn) == len(datas_audio) and datas_audio.keys() == data_fn['filename']:\n",
        "            return True\n",
        "        else:\n",
        "            return False\n",
        "\n",
        "    def fit_transform(self, datas_audio=None, pv_version=None, sample_rate=22050, n_fft=5512, hop_length=2756):\n",
        "        data_class = []\n",
        "        idxc = 1;\n",
        "        data_features = {};\n",
        "\n",
        "        fntest = self.data_fn['filename']\n",
        "\n",
        "        pv_version = pv_version if pv_version is not None else 1\n",
        "\n",
        "        datas_audio = datas_audio if datas_audio is not None else self.waves_data\n",
        "\n",
        "        # self.waves_data = datas_audio\n",
        "\n",
        "        rata_total = int(self.data_fn['length'].mean())\n",
        "        rata2 = self.data_fn.groupby(['native_language'])['length'].mean()\n",
        "        self.generate_target_duration_pv()\n",
        "\n",
        "        for idfn, datafn in tqdm(self.data_fn.iterrows()):\n",
        "            fname = datafn['filename']\n",
        "            sample_rate = datafn['samplerate']\n",
        "            native_lang = datafn['native_language']\n",
        "            waveformnew = self.transform_phase_vovoder(pv_version, datas_audio[fname], fname)\n",
        "            fftsize = int(sample_rate  * 0.025)\n",
        "            # fftsize = 512\n",
        "            one_feats = []\n",
        "            ## spectral centroid\n",
        "            cens = self.specs_centroid(waveformnew, sr=sample_rate, fftsize=fftsize, hop_length=None)\n",
        "\n",
        "            sbw = self.specs_bandw(waveformnew, sr=sample_rate,fftsize=fftsize, hop_length=None)\n",
        "\n",
        "            contrast = self.specs_con(waveformnew, sr=sample_rate,fftsize=fftsize, hop_length=None)\n",
        "\n",
        "            rolloff= self.specs_rolloff(waveformnew, sr=sample_rate,fftsize=fftsize, hop_length=None)\n",
        "\n",
        "            features = []\n",
        "            features.append(cens)\n",
        "            features.append(sbw)\n",
        "            features.append(contrast)\n",
        "            features.append(rolloff)\n",
        "            data_features[fname] = features\n",
        "\n",
        "        self.data_features = data_features\n",
        "        self.data_fn.drop(columns=['waves'], inplace=True)\n",
        "        return data_features\n",
        "\n",
        "    def generate_target_duration_pv(self):\n",
        "        dur_pv1 = {}\n",
        "        dur_pv2 = {}\n",
        "        dur_pv3 = {}\n",
        "\n",
        "        # Get average duration of all datas\n",
        "        rata_total = int(self.data_fn['length'].mean())\n",
        "\n",
        "        # Get average duration of each native languages data\n",
        "        rata2 = self.data_fn.groupby(['native_language'])['length'].mean()\n",
        "\n",
        "        # Get average duration of english native languages\n",
        "        dur_EN = round(rata2['english'])\n",
        "\n",
        "        # Get duration for pv3\n",
        "        target_durs_pv3 = {}\n",
        "        for onelang in self.data_fn['native_language'].unique():\n",
        "          one_durs_lang = round(rata2[onelang])\n",
        "          target_durs_pv3[onelang] = round((one_durs_lang+dur_EN) / 2)\n",
        "\n",
        "        # Iteration to generate target duration of each filename\n",
        "        for idx, datas in tqdm(self.data_fn.iterrows()):\n",
        "            one_waves = datas['waves']\n",
        "            natlan = datas['native_language']\n",
        "            one_durs = datas['length']\n",
        "            one_sr = datas['samplerate']\n",
        "            rates_ch1 = round(round(rata2[natlan]) / (one_durs), 3)\n",
        "            rates_ch2 = round(rata_total / (one_durs), 3)\n",
        "            rates_ch3 = round(target_durs_pv3[natlan] / (one_durs), 3)\n",
        "\n",
        "            dur_pv1[datas['filename']] = rates_ch1\n",
        "            dur_pv2[datas['filename']] = rates_ch2\n",
        "            dur_pv3[datas['filename']] = rates_ch3\n",
        "\n",
        "        # save to variable of this class\n",
        "        self.dur_pv1 = dur_pv1\n",
        "        self.dur_pv2 = dur_pv2\n",
        "        self.dur_pv3 = dur_pv3\n",
        "\n",
        "    def specs_centroid(self,waveform, sr=None, fftsize=None, hop_length=None):\n",
        "        n_fft=fftsize if fftsize is not None else int(sr  * 0.025)\n",
        "        hop_length= hop_length if hop_length is not None else int(fftsize * 0.4)\n",
        "\n",
        "        centroid = librosa.feature.spectral_centroid(y=waveform, sr=sr, n_fft=n_fft, hop_length=hop_length)\n",
        "        return centroid\n",
        "\n",
        "    def specs_bandw(self,waveform, sr=None, fftsize=None, hop_length=None):\n",
        "        n_fft=fftsize if fftsize is not None else int(sr  * 0.025)\n",
        "        hop_length= hop_length if hop_length is not None else int(fftsize * 0.4)\n",
        "\n",
        "        sbw = librosa.feature.spectral_bandwidth(y=waveform, sr=sr, n_fft=n_fft, hop_length=hop_length)\n",
        "        return sbw\n",
        "\n",
        "    def specs_con(self, waveform, sr=None, fftsize=None, hop_length=None):\n",
        "        n_fft=fftsize if fftsize is not None else int(sr  * 0.025)\n",
        "        hop_length= hop_length if hop_length is not None else int(fftsize * 0.4)\n",
        "        D = np.abs(librosa.stft(waveform, n_fft=n_fft, hop_length=hop_length))\n",
        "        contrast = librosa.feature.spectral_contrast(S=D, sr=sr, fmin=100, n_bands=5)\n",
        "        return contrast\n",
        "\n",
        "    def specs_rolloff(self, waveform, sr=None, fftsize=None, hop_length=None):\n",
        "        n_fft=fftsize if fftsize is not None else int(sr  * 0.025)\n",
        "        hop_length= hop_length if hop_length is not None else int(fftsize * 0.4)\n",
        "\n",
        "        specs_high = librosa.feature.spectral_rolloff(y=waveform, sr=sr, roll_percent=0.95, n_fft=n_fft, hop_length=hop_length)\n",
        "        specs_mins = librosa.feature.spectral_rolloff(y=waveform, sr=sr, roll_percent=0.05, n_fft=n_fft, hop_length=hop_length)\n",
        "        res = np.array([np.array(specs_high), np.array(specs_mins)])\n",
        "        return res\n",
        "    def generate_random_sample_of_feats(self, features, number_sample=2300):\n",
        "        if number_sample > 2300:\n",
        "            raise Exception(\"Number of sample must be below 2300\")\n",
        "\n",
        "        for onefiles in features:\n",
        "          idx = 0\n",
        "          for anas in features[onefiles]:\n",
        "              flatted_feats = np.ravel(anas)\n",
        "              max_start = len(flatted_feats) - number_sample\n",
        "              start_point = np.random.randint(0, high=max_start)\n",
        "              anas = flatted_feats[start_point:(start_point+number_sample)]\n",
        "              features[onefiles][idx] = anas\n",
        "              idx += 1\n",
        "        return features"
      ],
      "metadata": {
        "id": "3_nBE5azeOuG"
      },
      "execution_count": 33,
      "outputs": []
    },
    {
      "cell_type": "markdown",
      "source": [
        "# Hidden code"
      ],
      "metadata": {
        "id": "5B2VaQ7AYdXY"
      }
    },
    {
      "cell_type": "code",
      "source": [
        "wavesobj_proc.keys()"
      ],
      "metadata": {
        "colab": {
          "base_uri": "https://localhost:8080/"
        },
        "id": "xpsjETOzgwOe",
        "outputId": "b098c85a-dd03-4736-f9c0-26b12cf1bcd5"
      },
      "execution_count": 34,
      "outputs": [
        {
          "output_type": "execute_result",
          "data": {
            "text/plain": [
              "Index(['speaker_id', 'filename', 'birth_place', 'native_language', 'age',\n",
              "       'sex', 'age_of_english_onset', 'english_learning_method',\n",
              "       'english_residence', 'length_of_english_residence', 'length',\n",
              "       'samplerate', 'waves'],\n",
              "      dtype='object')"
            ]
          },
          "metadata": {},
          "execution_count": 34
        }
      ]
    },
    {
      "cell_type": "code",
      "source": [
        "waves_files = {}\n",
        "for idfn, datafn in tqdm(wavesobj_proc.iterrows()):\n",
        "  fname = datafn['filename']\n",
        "  waves_files[fname] = datafn['waves']\n"
      ],
      "metadata": {
        "colab": {
          "base_uri": "https://localhost:8080/",
          "height": 49,
          "referenced_widgets": [
            "929de150bff74b9286f4255eb11fe510",
            "81ecc927d8944a93a9b3f62577e22b84",
            "5c10219bb0854a728f8db6f1e2db4dd4",
            "8add15d16ef947c190a57c130d20cb00",
            "98a2945ddb84408b8b2c4760dd439012",
            "59cf6874309c45ac92c90f0cb2816902",
            "b164f9953539407a8fec091184b7374f",
            "8f2e4cdf02164f20a0542e9f73252229",
            "cea17e46205d48f682d4761208724061",
            "67b215c458be4f06875951c3e1832834",
            "f3fcb1b83ca346ec9a4e123963248e06"
          ]
        },
        "id": "cYDNM9q52X-g",
        "outputId": "40391155-c255-49a9-8369-e1c6add5c6c6"
      },
      "execution_count": 35,
      "outputs": [
        {
          "output_type": "display_data",
          "data": {
            "text/plain": [
              "0it [00:00, ?it/s]"
            ],
            "application/vnd.jupyter.widget-view+json": {
              "version_major": 2,
              "version_minor": 0,
              "model_id": "929de150bff74b9286f4255eb11fe510"
            }
          },
          "metadata": {}
        }
      ]
    },
    {
      "cell_type": "markdown",
      "source": [
        "# Initialize class"
      ],
      "metadata": {
        "id": "-3DkdvQgYulc"
      }
    },
    {
      "cell_type": "code",
      "source": [
        "FeatClass = Features_signal_malau(wavesobj_proc)"
      ],
      "metadata": {
        "id": "5Q9y-PWimLhf"
      },
      "execution_count": 36,
      "outputs": []
    },
    {
      "cell_type": "code",
      "source": [
        "data_features = FeatClass.fit_transform(waves_files, 1)"
      ],
      "metadata": {
        "id": "MT89Uh4FgKnp",
        "colab": {
          "base_uri": "https://localhost:8080/",
          "height": 81,
          "referenced_widgets": [
            "b8f4ad1b92ba44ae98643a721b2ebef7",
            "4d42c6a820714d918e51870a2f7784ea",
            "54bb1aaca8cb4958862f72477c2ce5eb",
            "f2e7ddec3e28448cab5e26c1f76e1b99",
            "ebc0ba5bcc6a424882d94d6d943735cb",
            "128e98087b0b4ad4b4000e5c97f33c1f",
            "9774b1b67b5b4ebf866810c2bd2dbbcf",
            "c9c7b9d74bd449ea8a3443cf1383df23",
            "95c758841c8c40698a0c1165fdee25ff",
            "94278bb2267b45c3afcab830237b1d66",
            "f1a8693aed01406589b6c0e7ff3baccc",
            "9f1deb9d7b324960b89a91590d85aa45",
            "745e3518543944b78328dce80414fc68",
            "049d81f2af874775a560dab69cbb63ed",
            "79a345012a4c47a28f510df0ff86d8cd",
            "0a0f3ca1b7e3478cb67abcaa2a7dc98b",
            "2e2c4469578f42c3b10d2e1ee330faaa",
            "bd2441cef0bc4e1aa477ca41a789d4aa",
            "6d5842d48936476992d75dd6488281a1",
            "fd1c0d5c083346f5ba12a230885e3a50",
            "970e001a3bb24c83bfdf15a444b9815b",
            "0b0cc2f3306e48439f56434198c43f75"
          ]
        },
        "outputId": "40be41f5-36a6-4157-c9a1-5b03c012b1ba"
      },
      "execution_count": 37,
      "outputs": [
        {
          "output_type": "display_data",
          "data": {
            "text/plain": [
              "0it [00:00, ?it/s]"
            ],
            "application/vnd.jupyter.widget-view+json": {
              "version_major": 2,
              "version_minor": 0,
              "model_id": "b8f4ad1b92ba44ae98643a721b2ebef7"
            }
          },
          "metadata": {}
        },
        {
          "output_type": "display_data",
          "data": {
            "text/plain": [
              "0it [00:00, ?it/s]"
            ],
            "application/vnd.jupyter.widget-view+json": {
              "version_major": 2,
              "version_minor": 0,
              "model_id": "9f1deb9d7b324960b89a91590d85aa45"
            }
          },
          "metadata": {}
        }
      ]
    },
    {
      "cell_type": "code",
      "source": [
        "counts = 0\n",
        "_min, _max = float('inf'), -float('inf')\n",
        "for onefiles in data_features:\n",
        "    for anas in data_features[onefiles]:\n",
        "      _min = min(_min, anas.shape[1])\n",
        "      _max = max(_max, anas.shape[1])\n",
        "      break"
      ],
      "metadata": {
        "id": "v5gaDVLLh9jk"
      },
      "execution_count": 38,
      "outputs": []
    },
    {
      "cell_type": "code",
      "source": [
        "_min"
      ],
      "metadata": {
        "id": "IM8QWBPLjhfB",
        "colab": {
          "base_uri": "https://localhost:8080/"
        },
        "outputId": "6e282e67-7489-45ca-909d-22ec0a69008a"
      },
      "execution_count": 39,
      "outputs": [
        {
          "output_type": "execute_result",
          "data": {
            "text/plain": [
              "2304"
            ]
          },
          "metadata": {},
          "execution_count": 39
        }
      ]
    },
    {
      "cell_type": "code",
      "source": [
        "_max"
      ],
      "metadata": {
        "id": "_Uq8koerjpx5",
        "colab": {
          "base_uri": "https://localhost:8080/"
        },
        "outputId": "e8128b4d-a888-484b-fdce-dd789f23b98c"
      },
      "execution_count": 40,
      "outputs": [
        {
          "output_type": "execute_result",
          "data": {
            "text/plain": [
              "3412"
            ]
          },
          "metadata": {},
          "execution_count": 40
        }
      ]
    },
    {
      "cell_type": "code",
      "source": [
        "random_feats = FeatClass.generate_random_sample_of_feats(data_features, number_sample=1000)"
      ],
      "metadata": {
        "id": "VN7iEZ-tzPZb"
      },
      "execution_count": 41,
      "outputs": []
    },
    {
      "cell_type": "code",
      "source": [
        "counts = 0\n",
        "_min, _max = float('inf'), -float('inf')\n",
        "for onefiles in random_feats:\n",
        "    for anas in random_feats[onefiles]:\n",
        "      # print(anas)\n",
        "      _min = min(_min, len(anas))\n",
        "      _max = max(_max, len(anas))\n",
        "      break\n",
        "    # break"
      ],
      "metadata": {
        "id": "07L9fyRLzqyj"
      },
      "execution_count": 42,
      "outputs": []
    },
    {
      "cell_type": "code",
      "source": [
        "print(_min, _max)"
      ],
      "metadata": {
        "id": "RrAUIaz_ztZ7",
        "colab": {
          "base_uri": "https://localhost:8080/"
        },
        "outputId": "af106a33-bbdc-4ea7-8bd1-d963339bb5ec"
      },
      "execution_count": 43,
      "outputs": [
        {
          "output_type": "stream",
          "name": "stdout",
          "text": [
            "1000 1000\n"
          ]
        }
      ]
    },
    {
      "cell_type": "code",
      "source": [
        "FeatClass.data_fn.keys()"
      ],
      "metadata": {
        "colab": {
          "base_uri": "https://localhost:8080/"
        },
        "id": "9wA633HkbbXy",
        "outputId": "e674feff-5a2a-4005-e54b-0bfe27a95c59"
      },
      "execution_count": 47,
      "outputs": [
        {
          "output_type": "execute_result",
          "data": {
            "text/plain": [
              "Index(['speaker_id', 'filename', 'birth_place', 'native_language', 'age',\n",
              "       'sex', 'age_of_english_onset', 'english_learning_method',\n",
              "       'english_residence', 'length_of_english_residence', 'length',\n",
              "       'samplerate'],\n",
              "      dtype='object')"
            ]
          },
          "metadata": {},
          "execution_count": 47
        }
      ]
    },
    {
      "cell_type": "code",
      "source": [
        "FEATOBJ_PATH = \"\"\n",
        "fnpath = \"{}Class_feats_malau.pkl\".format(FEATOBJ_PATH)"
      ],
      "metadata": {
        "id": "HDnrbbaovg60"
      },
      "execution_count": 56,
      "outputs": []
    },
    {
      "cell_type": "code",
      "source": [
        "import pickle\n",
        "\n",
        "fdata = open(fnpath, \"wb+\")\n",
        "pickle.dump(FeatClass, fdata)\n",
        "fdata.close()"
      ],
      "metadata": {
        "id": "Rw9Yi0YVvekk"
      },
      "execution_count": 57,
      "outputs": []
    },
    {
      "cell_type": "markdown",
      "source": [
        "# Others incompleted code"
      ],
      "metadata": {
        "id": "4JRiSPzGYyho"
      }
    }
  ],
  "metadata": {
    "colab": {
      "machine_shape": "hm",
      "provenance": [],
      "gpuClass": "premium",
      "authorship_tag": "ABX9TyM6bgulNp8IwP/S0mwqqNDX",
      "include_colab_link": true
    },
    "gpuClass": "premium",
    "kernelspec": {
      "display_name": "Python 3",
      "name": "python3"
    },
    "language_info": {
      "name": "python"
    },
    "widgets": {
      "application/vnd.jupyter.widget-state+json": {
        "929de150bff74b9286f4255eb11fe510": {
          "model_module": "@jupyter-widgets/controls",
          "model_name": "HBoxModel",
          "model_module_version": "1.5.0",
          "state": {
            "_dom_classes": [],
            "_model_module": "@jupyter-widgets/controls",
            "_model_module_version": "1.5.0",
            "_model_name": "HBoxModel",
            "_view_count": null,
            "_view_module": "@jupyter-widgets/controls",
            "_view_module_version": "1.5.0",
            "_view_name": "HBoxView",
            "box_style": "",
            "children": [
              "IPY_MODEL_81ecc927d8944a93a9b3f62577e22b84",
              "IPY_MODEL_5c10219bb0854a728f8db6f1e2db4dd4",
              "IPY_MODEL_8add15d16ef947c190a57c130d20cb00"
            ],
            "layout": "IPY_MODEL_98a2945ddb84408b8b2c4760dd439012"
          }
        },
        "81ecc927d8944a93a9b3f62577e22b84": {
          "model_module": "@jupyter-widgets/controls",
          "model_name": "HTMLModel",
          "model_module_version": "1.5.0",
          "state": {
            "_dom_classes": [],
            "_model_module": "@jupyter-widgets/controls",
            "_model_module_version": "1.5.0",
            "_model_name": "HTMLModel",
            "_view_count": null,
            "_view_module": "@jupyter-widgets/controls",
            "_view_module_version": "1.5.0",
            "_view_name": "HTMLView",
            "description": "",
            "description_tooltip": null,
            "layout": "IPY_MODEL_59cf6874309c45ac92c90f0cb2816902",
            "placeholder": "​",
            "style": "IPY_MODEL_b164f9953539407a8fec091184b7374f",
            "value": ""
          }
        },
        "5c10219bb0854a728f8db6f1e2db4dd4": {
          "model_module": "@jupyter-widgets/controls",
          "model_name": "FloatProgressModel",
          "model_module_version": "1.5.0",
          "state": {
            "_dom_classes": [],
            "_model_module": "@jupyter-widgets/controls",
            "_model_module_version": "1.5.0",
            "_model_name": "FloatProgressModel",
            "_view_count": null,
            "_view_module": "@jupyter-widgets/controls",
            "_view_module_version": "1.5.0",
            "_view_name": "ProgressView",
            "bar_style": "success",
            "description": "",
            "description_tooltip": null,
            "layout": "IPY_MODEL_8f2e4cdf02164f20a0542e9f73252229",
            "max": 1,
            "min": 0,
            "orientation": "horizontal",
            "style": "IPY_MODEL_cea17e46205d48f682d4761208724061",
            "value": 1
          }
        },
        "8add15d16ef947c190a57c130d20cb00": {
          "model_module": "@jupyter-widgets/controls",
          "model_name": "HTMLModel",
          "model_module_version": "1.5.0",
          "state": {
            "_dom_classes": [],
            "_model_module": "@jupyter-widgets/controls",
            "_model_module_version": "1.5.0",
            "_model_name": "HTMLModel",
            "_view_count": null,
            "_view_module": "@jupyter-widgets/controls",
            "_view_module_version": "1.5.0",
            "_view_name": "HTMLView",
            "description": "",
            "description_tooltip": null,
            "layout": "IPY_MODEL_67b215c458be4f06875951c3e1832834",
            "placeholder": "​",
            "style": "IPY_MODEL_f3fcb1b83ca346ec9a4e123963248e06",
            "value": " 1418/? [00:00&lt;00:00, 16822.87it/s]"
          }
        },
        "98a2945ddb84408b8b2c4760dd439012": {
          "model_module": "@jupyter-widgets/base",
          "model_name": "LayoutModel",
          "model_module_version": "1.2.0",
          "state": {
            "_model_module": "@jupyter-widgets/base",
            "_model_module_version": "1.2.0",
            "_model_name": "LayoutModel",
            "_view_count": null,
            "_view_module": "@jupyter-widgets/base",
            "_view_module_version": "1.2.0",
            "_view_name": "LayoutView",
            "align_content": null,
            "align_items": null,
            "align_self": null,
            "border": null,
            "bottom": null,
            "display": null,
            "flex": null,
            "flex_flow": null,
            "grid_area": null,
            "grid_auto_columns": null,
            "grid_auto_flow": null,
            "grid_auto_rows": null,
            "grid_column": null,
            "grid_gap": null,
            "grid_row": null,
            "grid_template_areas": null,
            "grid_template_columns": null,
            "grid_template_rows": null,
            "height": null,
            "justify_content": null,
            "justify_items": null,
            "left": null,
            "margin": null,
            "max_height": null,
            "max_width": null,
            "min_height": null,
            "min_width": null,
            "object_fit": null,
            "object_position": null,
            "order": null,
            "overflow": null,
            "overflow_x": null,
            "overflow_y": null,
            "padding": null,
            "right": null,
            "top": null,
            "visibility": null,
            "width": null
          }
        },
        "59cf6874309c45ac92c90f0cb2816902": {
          "model_module": "@jupyter-widgets/base",
          "model_name": "LayoutModel",
          "model_module_version": "1.2.0",
          "state": {
            "_model_module": "@jupyter-widgets/base",
            "_model_module_version": "1.2.0",
            "_model_name": "LayoutModel",
            "_view_count": null,
            "_view_module": "@jupyter-widgets/base",
            "_view_module_version": "1.2.0",
            "_view_name": "LayoutView",
            "align_content": null,
            "align_items": null,
            "align_self": null,
            "border": null,
            "bottom": null,
            "display": null,
            "flex": null,
            "flex_flow": null,
            "grid_area": null,
            "grid_auto_columns": null,
            "grid_auto_flow": null,
            "grid_auto_rows": null,
            "grid_column": null,
            "grid_gap": null,
            "grid_row": null,
            "grid_template_areas": null,
            "grid_template_columns": null,
            "grid_template_rows": null,
            "height": null,
            "justify_content": null,
            "justify_items": null,
            "left": null,
            "margin": null,
            "max_height": null,
            "max_width": null,
            "min_height": null,
            "min_width": null,
            "object_fit": null,
            "object_position": null,
            "order": null,
            "overflow": null,
            "overflow_x": null,
            "overflow_y": null,
            "padding": null,
            "right": null,
            "top": null,
            "visibility": null,
            "width": null
          }
        },
        "b164f9953539407a8fec091184b7374f": {
          "model_module": "@jupyter-widgets/controls",
          "model_name": "DescriptionStyleModel",
          "model_module_version": "1.5.0",
          "state": {
            "_model_module": "@jupyter-widgets/controls",
            "_model_module_version": "1.5.0",
            "_model_name": "DescriptionStyleModel",
            "_view_count": null,
            "_view_module": "@jupyter-widgets/base",
            "_view_module_version": "1.2.0",
            "_view_name": "StyleView",
            "description_width": ""
          }
        },
        "8f2e4cdf02164f20a0542e9f73252229": {
          "model_module": "@jupyter-widgets/base",
          "model_name": "LayoutModel",
          "model_module_version": "1.2.0",
          "state": {
            "_model_module": "@jupyter-widgets/base",
            "_model_module_version": "1.2.0",
            "_model_name": "LayoutModel",
            "_view_count": null,
            "_view_module": "@jupyter-widgets/base",
            "_view_module_version": "1.2.0",
            "_view_name": "LayoutView",
            "align_content": null,
            "align_items": null,
            "align_self": null,
            "border": null,
            "bottom": null,
            "display": null,
            "flex": null,
            "flex_flow": null,
            "grid_area": null,
            "grid_auto_columns": null,
            "grid_auto_flow": null,
            "grid_auto_rows": null,
            "grid_column": null,
            "grid_gap": null,
            "grid_row": null,
            "grid_template_areas": null,
            "grid_template_columns": null,
            "grid_template_rows": null,
            "height": null,
            "justify_content": null,
            "justify_items": null,
            "left": null,
            "margin": null,
            "max_height": null,
            "max_width": null,
            "min_height": null,
            "min_width": null,
            "object_fit": null,
            "object_position": null,
            "order": null,
            "overflow": null,
            "overflow_x": null,
            "overflow_y": null,
            "padding": null,
            "right": null,
            "top": null,
            "visibility": null,
            "width": "20px"
          }
        },
        "cea17e46205d48f682d4761208724061": {
          "model_module": "@jupyter-widgets/controls",
          "model_name": "ProgressStyleModel",
          "model_module_version": "1.5.0",
          "state": {
            "_model_module": "@jupyter-widgets/controls",
            "_model_module_version": "1.5.0",
            "_model_name": "ProgressStyleModel",
            "_view_count": null,
            "_view_module": "@jupyter-widgets/base",
            "_view_module_version": "1.2.0",
            "_view_name": "StyleView",
            "bar_color": null,
            "description_width": ""
          }
        },
        "67b215c458be4f06875951c3e1832834": {
          "model_module": "@jupyter-widgets/base",
          "model_name": "LayoutModel",
          "model_module_version": "1.2.0",
          "state": {
            "_model_module": "@jupyter-widgets/base",
            "_model_module_version": "1.2.0",
            "_model_name": "LayoutModel",
            "_view_count": null,
            "_view_module": "@jupyter-widgets/base",
            "_view_module_version": "1.2.0",
            "_view_name": "LayoutView",
            "align_content": null,
            "align_items": null,
            "align_self": null,
            "border": null,
            "bottom": null,
            "display": null,
            "flex": null,
            "flex_flow": null,
            "grid_area": null,
            "grid_auto_columns": null,
            "grid_auto_flow": null,
            "grid_auto_rows": null,
            "grid_column": null,
            "grid_gap": null,
            "grid_row": null,
            "grid_template_areas": null,
            "grid_template_columns": null,
            "grid_template_rows": null,
            "height": null,
            "justify_content": null,
            "justify_items": null,
            "left": null,
            "margin": null,
            "max_height": null,
            "max_width": null,
            "min_height": null,
            "min_width": null,
            "object_fit": null,
            "object_position": null,
            "order": null,
            "overflow": null,
            "overflow_x": null,
            "overflow_y": null,
            "padding": null,
            "right": null,
            "top": null,
            "visibility": null,
            "width": null
          }
        },
        "f3fcb1b83ca346ec9a4e123963248e06": {
          "model_module": "@jupyter-widgets/controls",
          "model_name": "DescriptionStyleModel",
          "model_module_version": "1.5.0",
          "state": {
            "_model_module": "@jupyter-widgets/controls",
            "_model_module_version": "1.5.0",
            "_model_name": "DescriptionStyleModel",
            "_view_count": null,
            "_view_module": "@jupyter-widgets/base",
            "_view_module_version": "1.2.0",
            "_view_name": "StyleView",
            "description_width": ""
          }
        },
        "b8f4ad1b92ba44ae98643a721b2ebef7": {
          "model_module": "@jupyter-widgets/controls",
          "model_name": "HBoxModel",
          "model_module_version": "1.5.0",
          "state": {
            "_dom_classes": [],
            "_model_module": "@jupyter-widgets/controls",
            "_model_module_version": "1.5.0",
            "_model_name": "HBoxModel",
            "_view_count": null,
            "_view_module": "@jupyter-widgets/controls",
            "_view_module_version": "1.5.0",
            "_view_name": "HBoxView",
            "box_style": "",
            "children": [
              "IPY_MODEL_4d42c6a820714d918e51870a2f7784ea",
              "IPY_MODEL_54bb1aaca8cb4958862f72477c2ce5eb",
              "IPY_MODEL_f2e7ddec3e28448cab5e26c1f76e1b99"
            ],
            "layout": "IPY_MODEL_ebc0ba5bcc6a424882d94d6d943735cb"
          }
        },
        "4d42c6a820714d918e51870a2f7784ea": {
          "model_module": "@jupyter-widgets/controls",
          "model_name": "HTMLModel",
          "model_module_version": "1.5.0",
          "state": {
            "_dom_classes": [],
            "_model_module": "@jupyter-widgets/controls",
            "_model_module_version": "1.5.0",
            "_model_name": "HTMLModel",
            "_view_count": null,
            "_view_module": "@jupyter-widgets/controls",
            "_view_module_version": "1.5.0",
            "_view_name": "HTMLView",
            "description": "",
            "description_tooltip": null,
            "layout": "IPY_MODEL_128e98087b0b4ad4b4000e5c97f33c1f",
            "placeholder": "​",
            "style": "IPY_MODEL_9774b1b67b5b4ebf866810c2bd2dbbcf",
            "value": ""
          }
        },
        "54bb1aaca8cb4958862f72477c2ce5eb": {
          "model_module": "@jupyter-widgets/controls",
          "model_name": "FloatProgressModel",
          "model_module_version": "1.5.0",
          "state": {
            "_dom_classes": [],
            "_model_module": "@jupyter-widgets/controls",
            "_model_module_version": "1.5.0",
            "_model_name": "FloatProgressModel",
            "_view_count": null,
            "_view_module": "@jupyter-widgets/controls",
            "_view_module_version": "1.5.0",
            "_view_name": "ProgressView",
            "bar_style": "success",
            "description": "",
            "description_tooltip": null,
            "layout": "IPY_MODEL_c9c7b9d74bd449ea8a3443cf1383df23",
            "max": 1,
            "min": 0,
            "orientation": "horizontal",
            "style": "IPY_MODEL_95c758841c8c40698a0c1165fdee25ff",
            "value": 1
          }
        },
        "f2e7ddec3e28448cab5e26c1f76e1b99": {
          "model_module": "@jupyter-widgets/controls",
          "model_name": "HTMLModel",
          "model_module_version": "1.5.0",
          "state": {
            "_dom_classes": [],
            "_model_module": "@jupyter-widgets/controls",
            "_model_module_version": "1.5.0",
            "_model_name": "HTMLModel",
            "_view_count": null,
            "_view_module": "@jupyter-widgets/controls",
            "_view_module_version": "1.5.0",
            "_view_name": "HTMLView",
            "description": "",
            "description_tooltip": null,
            "layout": "IPY_MODEL_94278bb2267b45c3afcab830237b1d66",
            "placeholder": "​",
            "style": "IPY_MODEL_f1a8693aed01406589b6c0e7ff3baccc",
            "value": " 1418/? [00:00&lt;00:00, 10851.99it/s]"
          }
        },
        "ebc0ba5bcc6a424882d94d6d943735cb": {
          "model_module": "@jupyter-widgets/base",
          "model_name": "LayoutModel",
          "model_module_version": "1.2.0",
          "state": {
            "_model_module": "@jupyter-widgets/base",
            "_model_module_version": "1.2.0",
            "_model_name": "LayoutModel",
            "_view_count": null,
            "_view_module": "@jupyter-widgets/base",
            "_view_module_version": "1.2.0",
            "_view_name": "LayoutView",
            "align_content": null,
            "align_items": null,
            "align_self": null,
            "border": null,
            "bottom": null,
            "display": null,
            "flex": null,
            "flex_flow": null,
            "grid_area": null,
            "grid_auto_columns": null,
            "grid_auto_flow": null,
            "grid_auto_rows": null,
            "grid_column": null,
            "grid_gap": null,
            "grid_row": null,
            "grid_template_areas": null,
            "grid_template_columns": null,
            "grid_template_rows": null,
            "height": null,
            "justify_content": null,
            "justify_items": null,
            "left": null,
            "margin": null,
            "max_height": null,
            "max_width": null,
            "min_height": null,
            "min_width": null,
            "object_fit": null,
            "object_position": null,
            "order": null,
            "overflow": null,
            "overflow_x": null,
            "overflow_y": null,
            "padding": null,
            "right": null,
            "top": null,
            "visibility": null,
            "width": null
          }
        },
        "128e98087b0b4ad4b4000e5c97f33c1f": {
          "model_module": "@jupyter-widgets/base",
          "model_name": "LayoutModel",
          "model_module_version": "1.2.0",
          "state": {
            "_model_module": "@jupyter-widgets/base",
            "_model_module_version": "1.2.0",
            "_model_name": "LayoutModel",
            "_view_count": null,
            "_view_module": "@jupyter-widgets/base",
            "_view_module_version": "1.2.0",
            "_view_name": "LayoutView",
            "align_content": null,
            "align_items": null,
            "align_self": null,
            "border": null,
            "bottom": null,
            "display": null,
            "flex": null,
            "flex_flow": null,
            "grid_area": null,
            "grid_auto_columns": null,
            "grid_auto_flow": null,
            "grid_auto_rows": null,
            "grid_column": null,
            "grid_gap": null,
            "grid_row": null,
            "grid_template_areas": null,
            "grid_template_columns": null,
            "grid_template_rows": null,
            "height": null,
            "justify_content": null,
            "justify_items": null,
            "left": null,
            "margin": null,
            "max_height": null,
            "max_width": null,
            "min_height": null,
            "min_width": null,
            "object_fit": null,
            "object_position": null,
            "order": null,
            "overflow": null,
            "overflow_x": null,
            "overflow_y": null,
            "padding": null,
            "right": null,
            "top": null,
            "visibility": null,
            "width": null
          }
        },
        "9774b1b67b5b4ebf866810c2bd2dbbcf": {
          "model_module": "@jupyter-widgets/controls",
          "model_name": "DescriptionStyleModel",
          "model_module_version": "1.5.0",
          "state": {
            "_model_module": "@jupyter-widgets/controls",
            "_model_module_version": "1.5.0",
            "_model_name": "DescriptionStyleModel",
            "_view_count": null,
            "_view_module": "@jupyter-widgets/base",
            "_view_module_version": "1.2.0",
            "_view_name": "StyleView",
            "description_width": ""
          }
        },
        "c9c7b9d74bd449ea8a3443cf1383df23": {
          "model_module": "@jupyter-widgets/base",
          "model_name": "LayoutModel",
          "model_module_version": "1.2.0",
          "state": {
            "_model_module": "@jupyter-widgets/base",
            "_model_module_version": "1.2.0",
            "_model_name": "LayoutModel",
            "_view_count": null,
            "_view_module": "@jupyter-widgets/base",
            "_view_module_version": "1.2.0",
            "_view_name": "LayoutView",
            "align_content": null,
            "align_items": null,
            "align_self": null,
            "border": null,
            "bottom": null,
            "display": null,
            "flex": null,
            "flex_flow": null,
            "grid_area": null,
            "grid_auto_columns": null,
            "grid_auto_flow": null,
            "grid_auto_rows": null,
            "grid_column": null,
            "grid_gap": null,
            "grid_row": null,
            "grid_template_areas": null,
            "grid_template_columns": null,
            "grid_template_rows": null,
            "height": null,
            "justify_content": null,
            "justify_items": null,
            "left": null,
            "margin": null,
            "max_height": null,
            "max_width": null,
            "min_height": null,
            "min_width": null,
            "object_fit": null,
            "object_position": null,
            "order": null,
            "overflow": null,
            "overflow_x": null,
            "overflow_y": null,
            "padding": null,
            "right": null,
            "top": null,
            "visibility": null,
            "width": "20px"
          }
        },
        "95c758841c8c40698a0c1165fdee25ff": {
          "model_module": "@jupyter-widgets/controls",
          "model_name": "ProgressStyleModel",
          "model_module_version": "1.5.0",
          "state": {
            "_model_module": "@jupyter-widgets/controls",
            "_model_module_version": "1.5.0",
            "_model_name": "ProgressStyleModel",
            "_view_count": null,
            "_view_module": "@jupyter-widgets/base",
            "_view_module_version": "1.2.0",
            "_view_name": "StyleView",
            "bar_color": null,
            "description_width": ""
          }
        },
        "94278bb2267b45c3afcab830237b1d66": {
          "model_module": "@jupyter-widgets/base",
          "model_name": "LayoutModel",
          "model_module_version": "1.2.0",
          "state": {
            "_model_module": "@jupyter-widgets/base",
            "_model_module_version": "1.2.0",
            "_model_name": "LayoutModel",
            "_view_count": null,
            "_view_module": "@jupyter-widgets/base",
            "_view_module_version": "1.2.0",
            "_view_name": "LayoutView",
            "align_content": null,
            "align_items": null,
            "align_self": null,
            "border": null,
            "bottom": null,
            "display": null,
            "flex": null,
            "flex_flow": null,
            "grid_area": null,
            "grid_auto_columns": null,
            "grid_auto_flow": null,
            "grid_auto_rows": null,
            "grid_column": null,
            "grid_gap": null,
            "grid_row": null,
            "grid_template_areas": null,
            "grid_template_columns": null,
            "grid_template_rows": null,
            "height": null,
            "justify_content": null,
            "justify_items": null,
            "left": null,
            "margin": null,
            "max_height": null,
            "max_width": null,
            "min_height": null,
            "min_width": null,
            "object_fit": null,
            "object_position": null,
            "order": null,
            "overflow": null,
            "overflow_x": null,
            "overflow_y": null,
            "padding": null,
            "right": null,
            "top": null,
            "visibility": null,
            "width": null
          }
        },
        "f1a8693aed01406589b6c0e7ff3baccc": {
          "model_module": "@jupyter-widgets/controls",
          "model_name": "DescriptionStyleModel",
          "model_module_version": "1.5.0",
          "state": {
            "_model_module": "@jupyter-widgets/controls",
            "_model_module_version": "1.5.0",
            "_model_name": "DescriptionStyleModel",
            "_view_count": null,
            "_view_module": "@jupyter-widgets/base",
            "_view_module_version": "1.2.0",
            "_view_name": "StyleView",
            "description_width": ""
          }
        },
        "9f1deb9d7b324960b89a91590d85aa45": {
          "model_module": "@jupyter-widgets/controls",
          "model_name": "HBoxModel",
          "model_module_version": "1.5.0",
          "state": {
            "_dom_classes": [],
            "_model_module": "@jupyter-widgets/controls",
            "_model_module_version": "1.5.0",
            "_model_name": "HBoxModel",
            "_view_count": null,
            "_view_module": "@jupyter-widgets/controls",
            "_view_module_version": "1.5.0",
            "_view_name": "HBoxView",
            "box_style": "",
            "children": [
              "IPY_MODEL_745e3518543944b78328dce80414fc68",
              "IPY_MODEL_049d81f2af874775a560dab69cbb63ed",
              "IPY_MODEL_79a345012a4c47a28f510df0ff86d8cd"
            ],
            "layout": "IPY_MODEL_0a0f3ca1b7e3478cb67abcaa2a7dc98b"
          }
        },
        "745e3518543944b78328dce80414fc68": {
          "model_module": "@jupyter-widgets/controls",
          "model_name": "HTMLModel",
          "model_module_version": "1.5.0",
          "state": {
            "_dom_classes": [],
            "_model_module": "@jupyter-widgets/controls",
            "_model_module_version": "1.5.0",
            "_model_name": "HTMLModel",
            "_view_count": null,
            "_view_module": "@jupyter-widgets/controls",
            "_view_module_version": "1.5.0",
            "_view_name": "HTMLView",
            "description": "",
            "description_tooltip": null,
            "layout": "IPY_MODEL_2e2c4469578f42c3b10d2e1ee330faaa",
            "placeholder": "​",
            "style": "IPY_MODEL_bd2441cef0bc4e1aa477ca41a789d4aa",
            "value": ""
          }
        },
        "049d81f2af874775a560dab69cbb63ed": {
          "model_module": "@jupyter-widgets/controls",
          "model_name": "FloatProgressModel",
          "model_module_version": "1.5.0",
          "state": {
            "_dom_classes": [],
            "_model_module": "@jupyter-widgets/controls",
            "_model_module_version": "1.5.0",
            "_model_name": "FloatProgressModel",
            "_view_count": null,
            "_view_module": "@jupyter-widgets/controls",
            "_view_module_version": "1.5.0",
            "_view_name": "ProgressView",
            "bar_style": "success",
            "description": "",
            "description_tooltip": null,
            "layout": "IPY_MODEL_6d5842d48936476992d75dd6488281a1",
            "max": 1,
            "min": 0,
            "orientation": "horizontal",
            "style": "IPY_MODEL_fd1c0d5c083346f5ba12a230885e3a50",
            "value": 1
          }
        },
        "79a345012a4c47a28f510df0ff86d8cd": {
          "model_module": "@jupyter-widgets/controls",
          "model_name": "HTMLModel",
          "model_module_version": "1.5.0",
          "state": {
            "_dom_classes": [],
            "_model_module": "@jupyter-widgets/controls",
            "_model_module_version": "1.5.0",
            "_model_name": "HTMLModel",
            "_view_count": null,
            "_view_module": "@jupyter-widgets/controls",
            "_view_module_version": "1.5.0",
            "_view_name": "HTMLView",
            "description": "",
            "description_tooltip": null,
            "layout": "IPY_MODEL_970e001a3bb24c83bfdf15a444b9815b",
            "placeholder": "​",
            "style": "IPY_MODEL_0b0cc2f3306e48439f56434198c43f75",
            "value": " 1418/? [40:35&lt;00:00,  1.79s/it]"
          }
        },
        "0a0f3ca1b7e3478cb67abcaa2a7dc98b": {
          "model_module": "@jupyter-widgets/base",
          "model_name": "LayoutModel",
          "model_module_version": "1.2.0",
          "state": {
            "_model_module": "@jupyter-widgets/base",
            "_model_module_version": "1.2.0",
            "_model_name": "LayoutModel",
            "_view_count": null,
            "_view_module": "@jupyter-widgets/base",
            "_view_module_version": "1.2.0",
            "_view_name": "LayoutView",
            "align_content": null,
            "align_items": null,
            "align_self": null,
            "border": null,
            "bottom": null,
            "display": null,
            "flex": null,
            "flex_flow": null,
            "grid_area": null,
            "grid_auto_columns": null,
            "grid_auto_flow": null,
            "grid_auto_rows": null,
            "grid_column": null,
            "grid_gap": null,
            "grid_row": null,
            "grid_template_areas": null,
            "grid_template_columns": null,
            "grid_template_rows": null,
            "height": null,
            "justify_content": null,
            "justify_items": null,
            "left": null,
            "margin": null,
            "max_height": null,
            "max_width": null,
            "min_height": null,
            "min_width": null,
            "object_fit": null,
            "object_position": null,
            "order": null,
            "overflow": null,
            "overflow_x": null,
            "overflow_y": null,
            "padding": null,
            "right": null,
            "top": null,
            "visibility": null,
            "width": null
          }
        },
        "2e2c4469578f42c3b10d2e1ee330faaa": {
          "model_module": "@jupyter-widgets/base",
          "model_name": "LayoutModel",
          "model_module_version": "1.2.0",
          "state": {
            "_model_module": "@jupyter-widgets/base",
            "_model_module_version": "1.2.0",
            "_model_name": "LayoutModel",
            "_view_count": null,
            "_view_module": "@jupyter-widgets/base",
            "_view_module_version": "1.2.0",
            "_view_name": "LayoutView",
            "align_content": null,
            "align_items": null,
            "align_self": null,
            "border": null,
            "bottom": null,
            "display": null,
            "flex": null,
            "flex_flow": null,
            "grid_area": null,
            "grid_auto_columns": null,
            "grid_auto_flow": null,
            "grid_auto_rows": null,
            "grid_column": null,
            "grid_gap": null,
            "grid_row": null,
            "grid_template_areas": null,
            "grid_template_columns": null,
            "grid_template_rows": null,
            "height": null,
            "justify_content": null,
            "justify_items": null,
            "left": null,
            "margin": null,
            "max_height": null,
            "max_width": null,
            "min_height": null,
            "min_width": null,
            "object_fit": null,
            "object_position": null,
            "order": null,
            "overflow": null,
            "overflow_x": null,
            "overflow_y": null,
            "padding": null,
            "right": null,
            "top": null,
            "visibility": null,
            "width": null
          }
        },
        "bd2441cef0bc4e1aa477ca41a789d4aa": {
          "model_module": "@jupyter-widgets/controls",
          "model_name": "DescriptionStyleModel",
          "model_module_version": "1.5.0",
          "state": {
            "_model_module": "@jupyter-widgets/controls",
            "_model_module_version": "1.5.0",
            "_model_name": "DescriptionStyleModel",
            "_view_count": null,
            "_view_module": "@jupyter-widgets/base",
            "_view_module_version": "1.2.0",
            "_view_name": "StyleView",
            "description_width": ""
          }
        },
        "6d5842d48936476992d75dd6488281a1": {
          "model_module": "@jupyter-widgets/base",
          "model_name": "LayoutModel",
          "model_module_version": "1.2.0",
          "state": {
            "_model_module": "@jupyter-widgets/base",
            "_model_module_version": "1.2.0",
            "_model_name": "LayoutModel",
            "_view_count": null,
            "_view_module": "@jupyter-widgets/base",
            "_view_module_version": "1.2.0",
            "_view_name": "LayoutView",
            "align_content": null,
            "align_items": null,
            "align_self": null,
            "border": null,
            "bottom": null,
            "display": null,
            "flex": null,
            "flex_flow": null,
            "grid_area": null,
            "grid_auto_columns": null,
            "grid_auto_flow": null,
            "grid_auto_rows": null,
            "grid_column": null,
            "grid_gap": null,
            "grid_row": null,
            "grid_template_areas": null,
            "grid_template_columns": null,
            "grid_template_rows": null,
            "height": null,
            "justify_content": null,
            "justify_items": null,
            "left": null,
            "margin": null,
            "max_height": null,
            "max_width": null,
            "min_height": null,
            "min_width": null,
            "object_fit": null,
            "object_position": null,
            "order": null,
            "overflow": null,
            "overflow_x": null,
            "overflow_y": null,
            "padding": null,
            "right": null,
            "top": null,
            "visibility": null,
            "width": "20px"
          }
        },
        "fd1c0d5c083346f5ba12a230885e3a50": {
          "model_module": "@jupyter-widgets/controls",
          "model_name": "ProgressStyleModel",
          "model_module_version": "1.5.0",
          "state": {
            "_model_module": "@jupyter-widgets/controls",
            "_model_module_version": "1.5.0",
            "_model_name": "ProgressStyleModel",
            "_view_count": null,
            "_view_module": "@jupyter-widgets/base",
            "_view_module_version": "1.2.0",
            "_view_name": "StyleView",
            "bar_color": null,
            "description_width": ""
          }
        },
        "970e001a3bb24c83bfdf15a444b9815b": {
          "model_module": "@jupyter-widgets/base",
          "model_name": "LayoutModel",
          "model_module_version": "1.2.0",
          "state": {
            "_model_module": "@jupyter-widgets/base",
            "_model_module_version": "1.2.0",
            "_model_name": "LayoutModel",
            "_view_count": null,
            "_view_module": "@jupyter-widgets/base",
            "_view_module_version": "1.2.0",
            "_view_name": "LayoutView",
            "align_content": null,
            "align_items": null,
            "align_self": null,
            "border": null,
            "bottom": null,
            "display": null,
            "flex": null,
            "flex_flow": null,
            "grid_area": null,
            "grid_auto_columns": null,
            "grid_auto_flow": null,
            "grid_auto_rows": null,
            "grid_column": null,
            "grid_gap": null,
            "grid_row": null,
            "grid_template_areas": null,
            "grid_template_columns": null,
            "grid_template_rows": null,
            "height": null,
            "justify_content": null,
            "justify_items": null,
            "left": null,
            "margin": null,
            "max_height": null,
            "max_width": null,
            "min_height": null,
            "min_width": null,
            "object_fit": null,
            "object_position": null,
            "order": null,
            "overflow": null,
            "overflow_x": null,
            "overflow_y": null,
            "padding": null,
            "right": null,
            "top": null,
            "visibility": null,
            "width": null
          }
        },
        "0b0cc2f3306e48439f56434198c43f75": {
          "model_module": "@jupyter-widgets/controls",
          "model_name": "DescriptionStyleModel",
          "model_module_version": "1.5.0",
          "state": {
            "_model_module": "@jupyter-widgets/controls",
            "_model_module_version": "1.5.0",
            "_model_name": "DescriptionStyleModel",
            "_view_count": null,
            "_view_module": "@jupyter-widgets/base",
            "_view_module_version": "1.2.0",
            "_view_name": "StyleView",
            "description_width": ""
          }
        }
      }
    }
  },
  "nbformat": 4,
  "nbformat_minor": 0
}